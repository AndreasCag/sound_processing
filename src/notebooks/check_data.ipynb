{
 "cells": [
  {
   "cell_type": "code",
   "execution_count": 1,
   "id": "9f835d28-c334-45ef-bb3e-816ed0568155",
   "metadata": {},
   "outputs": [],
   "source": [
    "import torch\n",
    "import torchaudio\n",
    "import matplotlib.pyplot as plt\n",
    "from IPython.display import Audio, display"
   ]
  },
  {
   "cell_type": "code",
   "execution_count": null,
   "id": "1c6d344f-0931-4433-baec-7431c0cc9fb6",
   "metadata": {},
   "outputs": [],
   "source": []
  },
  {
   "cell_type": "code",
   "execution_count": 2,
   "id": "e7675c61-4c4c-4694-aca5-9a3ae05b6e22",
   "metadata": {},
   "outputs": [],
   "source": [
    "\n",
    "def plot_waveform(waveform, sample_rate, title=\"Waveform\", xlim=None, ylim=None):\n",
    "  waveform = waveform.numpy()\n",
    "\n",
    "  num_channels, num_frames = waveform.shape\n",
    "  time_axis = torch.arange(0, num_frames) / sample_rate\n",
    "\n",
    "  figure, axes = plt.subplots(num_channels, 1)\n",
    "  if num_channels == 1:\n",
    "    axes = [axes]\n",
    "  for c in range(num_channels):\n",
    "    axes[c].plot(time_axis, waveform[c], linewidth=1)\n",
    "    axes[c].grid(True)\n",
    "    if num_channels > 1:\n",
    "      axes[c].set_ylabel(f'Channel {c+1}')\n",
    "    if xlim:\n",
    "      axes[c].set_xlim(xlim)\n",
    "    if ylim:\n",
    "      axes[c].set_ylim(ylim)\n",
    "  figure.suptitle(title)\n",
    "  plt.show(block=False)\n",
    "\n",
    "def plot_specgram(waveform, sample_rate, title=\"Spectrogram\", xlim=None):\n",
    "  waveform = waveform.numpy()\n",
    "\n",
    "  num_channels, num_frames = waveform.shape\n",
    "  time_axis = torch.arange(0, num_frames) / sample_rate\n",
    "\n",
    "  figure, axes = plt.subplots(num_channels, 1)\n",
    "  if num_channels == 1:\n",
    "    axes = [axes]\n",
    "  for c in range(num_channels):\n",
    "    axes[c].specgram(waveform[c], Fs=sample_rate)\n",
    "    if num_channels > 1:\n",
    "      axes[c].set_ylabel(f'Channel {c+1}')\n",
    "    if xlim:\n",
    "      axes[c].set_xlim(xlim)\n",
    "  figure.suptitle(title)\n",
    "  plt.show(block=False)\n",
    "\n",
    "\n",
    "def play_audio(waveform, sample_rate):\n",
    "  waveform = waveform.numpy()\n",
    "\n",
    "  num_channels, num_frames = waveform.shape\n",
    "  if num_channels == 1:\n",
    "    display(Audio(waveform[0], rate=sample_rate))\n",
    "  elif num_channels == 2:\n",
    "    display(Audio((waveform[0], waveform[1]), rate=sample_rate))\n",
    "  else:\n",
    "    raise ValueError(\"Waveform with more than 2 channels are not supported.\")\n"
   ]
  },
  {
   "cell_type": "code",
   "execution_count": 3,
   "id": "97ede52b-0ad1-4bd8-b00f-794ec2bd52cc",
   "metadata": {},
   "outputs": [],
   "source": [
    "# waveform, sample_rate = torchaudio.load('/Users/a.anikin/repos/cv_court_lines_detection/sound_processing/data/Breath-Data/01_male_23_BQuyen.wav')"
   ]
  },
  {
   "cell_type": "code",
   "execution_count": 4,
   "id": "aab8cbb1-b1e1-4c07-86b8-61f84cd203f0",
   "metadata": {},
   "outputs": [],
   "source": [
    "# %pip install soundfile"
   ]
  },
  {
   "cell_type": "code",
   "execution_count": 5,
   "id": "fbcd4d98-800f-4c25-9db7-f81edcf76eed",
   "metadata": {},
   "outputs": [],
   "source": [
    "import os\n",
    "from pathlib import Path\n",
    "import sys"
   ]
  },
  {
   "cell_type": "code",
   "execution_count": 6,
   "id": "4cb93c23-012b-436f-ab97-84948965c81c",
   "metadata": {},
   "outputs": [],
   "source": [
    "\n",
    "path2add = '/Users/a.anikin/repos/cv_court_lines_detection/sound_processing/src'\n",
    "if (not (path2add in sys.path)) :\n",
    "    sys.path.append(path2add)\n"
   ]
  },
  {
   "cell_type": "code",
   "execution_count": 7,
   "id": "6ada0696-266a-4f81-86f1-766bbd8a848c",
   "metadata": {},
   "outputs": [],
   "source": [
    "from dataset import BreathingDataset\n",
    "from model import RawAudioCNN\n",
    "from train import train_model\n",
    "from augmentations import train_augment\n"
   ]
  },
  {
   "cell_type": "code",
   "execution_count": 9,
   "id": "19ccceb1-df80-42d2-be54-ba7eef07fd0a",
   "metadata": {},
   "outputs": [],
   "source": [
    "data_dir = Path(\"/Users/a.anikin/repos/cv_court_lines_detection/sound_processing/data/Breath-Data\")\n",
    "\n",
    "noise_dir = Path(\"data/noise\")\n",
    "noise_val_dir = Path(\"data/noise_val\")\n",
    "sounds_list = [\n",
    "    data_dir / \"08_male_21_TLong.wav\",\n",
    "    data_dir / \"15_female_21_PPhuong.wav\",\n",
    "    data_dir / \"06_male_21_QViet.wav\",\n",
    "    data_dir / \"16_male_21_TTung.wav\",\n",
    "    data_dir / \"22_male_21_VHung.wav\",\n",
    "    data_dir / \"14_male_21_Khanh.wav\",\n",
    "    data_dir / \"20_male_21_Viet.wav\",\n",
    "    data_dir / \"18_male_21_Hoa.wav\",\n",
    "    data_dir / \"03_male_21_BDuong.wav\",\n",
    "    data_dir / \"29_male_19_Cong.wav\",\n",
    "    data_dir / \"23_male_21_CNDuong.wav\",\n",
    "    data_dir / \"17_male_21_Trung.wav\",\n",
    "    data_dir / \"10_male_21_Nam.wav\",\n",
    "    data_dir / \"24_female_21_MPham.wav\",\n",
    "    data_dir / \"04_female_21_LAnh.wav\",\n",
    "    data_dir / \"19_male_21_Minh.wav\",\n",
    "    data_dir / \"05_male_21_NLinh.wav\",\n",
    "    data_dir / \"11_female_21_Tam.wav\",\n",
    "    data_dir / \"28_male_19_VHoa_asthma.wav\",\n",
    "    data_dir / \"21_male_21_Hai.wav\",\n",
    "    data_dir / \"07_male_21_MQuang.wav\",\n",
    "    data_dir / \"27_female_19_TThanh.wav\",\n",
    "    data_dir / \"01_male_23_BQuyen.wav\",\n",
    "    data_dir / \"09_male_21_Ngon.wav\",\n",
    "    data_dir / \"12_male_21_Tam.wav\",\n",
    "    data_dir / \"13_female_20_TNhi.wav\",\n",
    "    data_dir / \"02_male_22_PTuan.wav\",\n",
    "    data_dir / \"26_female_19_Linh.wav\"\n",
    "]\n",
    "\n",
    "# Split into train / validation\n",
    "train_list = sounds_list[:-7]\n",
    "val_list   = sounds_list[-7:]\n",
    "train_dataset = BreathingDataset(train_list, random_audios_folder=noise_dir)\n",
    "val_dataset = BreathingDataset(val_list, random_audios_folder=noise_val_dir, seed=42)"
   ]
  },
  {
   "cell_type": "code",
   "execution_count": 10,
   "id": "873873e9-9cfc-4bb1-aa20-bad4c21bec09",
   "metadata": {},
   "outputs": [
    {
     "ename": "IndexError",
     "evalue": "Cannot choose from an empty sequence",
     "output_type": "error",
     "traceback": [
      "\u001b[0;31m---------------------------------------------------------------------------\u001b[0m",
      "\u001b[0;31mIndexError\u001b[0m                                Traceback (most recent call last)",
      "Cell \u001b[0;32mIn[10], line 2\u001b[0m\n\u001b[1;32m      1\u001b[0m \u001b[38;5;28;01mfor\u001b[39;00m i \u001b[38;5;129;01min\u001b[39;00m \u001b[38;5;28mrange\u001b[39m(\u001b[38;5;241m10\u001b[39m):\n\u001b[0;32m----> 2\u001b[0m     wave, label \u001b[38;5;241m=\u001b[39m \u001b[43mval_dataset\u001b[49m\u001b[43m[\u001b[49m\u001b[43mi\u001b[49m\u001b[43m]\u001b[49m\n\u001b[1;32m      3\u001b[0m     play_audio(wave\u001b[38;5;241m.\u001b[39munsqueeze(\u001b[38;5;241m0\u001b[39m), \u001b[38;5;241m16000\u001b[39m)\n\u001b[1;32m      4\u001b[0m     \u001b[38;5;28mprint\u001b[39m(label)\n",
      "File \u001b[0;32m~/repos/cv_court_lines_detection/sound_processing/src/dataset.py:179\u001b[0m, in \u001b[0;36m__getitem__\u001b[0;34m(self, idx)\u001b[0m\n\u001b[1;32m    176\u001b[0m \u001b[38;5;28;01mif\u001b[39;00m expected_label \u001b[38;5;241m==\u001b[39m \u001b[38;5;241m0\u001b[39m:\n\u001b[1;32m    177\u001b[0m     \u001b[38;5;28;01mif\u001b[39;00m \u001b[38;5;28mself\u001b[39m\u001b[38;5;241m.\u001b[39mseed \u001b[38;5;129;01mis\u001b[39;00m \u001b[38;5;129;01mnot\u001b[39;00m \u001b[38;5;28;01mNone\u001b[39;00m:\n\u001b[1;32m    178\u001b[0m         \u001b[38;5;66;03m# Use a different seed for each index but make it reproducible\u001b[39;00m\n\u001b[0;32m--> 179\u001b[0m         random\u001b[38;5;241m.\u001b[39mseed(\u001b[38;5;28;01mNone\u001b[39;00m)\n\u001b[1;32m    181\u001b[0m     \u001b[38;5;28;01mreturn\u001b[39;00m \u001b[38;5;28mself\u001b[39m\u001b[38;5;241m.\u001b[39mget_random_noise()\n\u001b[1;32m    183\u001b[0m \u001b[38;5;28;01mwhile\u001b[39;00m \u001b[38;5;28;01mTrue\u001b[39;00m:\n",
      "File \u001b[0;32m~/repos/cv_court_lines_detection/sound_processing/src/dataset.py:148\u001b[0m, in \u001b[0;36mget_random_noise\u001b[0;34m(self)\u001b[0m\n\u001b[1;32m      0\u001b[0m <Error retrieving source code with stack_data see ipython/ipython#13598>\n",
      "File \u001b[0;32m/opt/homebrew/Cellar/python@3.13/3.13.1/Frameworks/Python.framework/Versions/3.13/lib/python3.13/random.py:351\u001b[0m, in \u001b[0;36mRandom.choice\u001b[0;34m(self, seq)\u001b[0m\n\u001b[1;32m    348\u001b[0m \u001b[38;5;66;03m# As an accommodation for NumPy, we don't use \"if not seq\"\u001b[39;00m\n\u001b[1;32m    349\u001b[0m \u001b[38;5;66;03m# because bool(numpy.array()) raises a ValueError.\u001b[39;00m\n\u001b[1;32m    350\u001b[0m \u001b[38;5;28;01mif\u001b[39;00m \u001b[38;5;129;01mnot\u001b[39;00m \u001b[38;5;28mlen\u001b[39m(seq):\n\u001b[0;32m--> 351\u001b[0m     \u001b[38;5;28;01mraise\u001b[39;00m \u001b[38;5;167;01mIndexError\u001b[39;00m(\u001b[38;5;124m'\u001b[39m\u001b[38;5;124mCannot choose from an empty sequence\u001b[39m\u001b[38;5;124m'\u001b[39m)\n\u001b[1;32m    352\u001b[0m \u001b[38;5;28;01mreturn\u001b[39;00m seq[\u001b[38;5;28mself\u001b[39m\u001b[38;5;241m.\u001b[39m_randbelow(\u001b[38;5;28mlen\u001b[39m(seq))]\n",
      "\u001b[0;31mIndexError\u001b[0m: Cannot choose from an empty sequence"
     ]
    }
   ],
   "source": [
    "for i in range(10):\n",
    "    wave, label = val_dataset[i]\n",
    "    play_audio(wave.unsqueeze(0), 16000)\n",
    "    print(label)"
   ]
  },
  {
   "cell_type": "code",
   "execution_count": null,
   "id": "757fb01f-c500-415b-a47b-dc5e9f544402",
   "metadata": {},
   "outputs": [],
   "source": []
  }
 ],
 "metadata": {
  "kernelspec": {
   "display_name": "Python 3 (ipykernel)",
   "language": "python",
   "name": "python3"
  },
  "language_info": {
   "codemirror_mode": {
    "name": "ipython",
    "version": 3
   },
   "file_extension": ".py",
   "mimetype": "text/x-python",
   "name": "python",
   "nbconvert_exporter": "python",
   "pygments_lexer": "ipython3",
   "version": "3.13.1"
  }
 },
 "nbformat": 4,
 "nbformat_minor": 5
}
